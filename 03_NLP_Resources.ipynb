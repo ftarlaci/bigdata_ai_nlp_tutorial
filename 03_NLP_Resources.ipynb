{
 "cells": [
  {
   "cell_type": "markdown",
   "metadata": {},
   "source": [
    "<center>\n",
    "    <img src=\"images/logo.png\" width=\"25%\"></img>\n",
    "</center>"
   ]
  },
  {
   "cell_type": "markdown",
   "metadata": {},
   "source": [
    "### A (Non-Exhaustive) List of Resources for Natural Language Processing"
   ]
  },
  {
   "cell_type": "markdown",
   "metadata": {},
   "source": [
    "### Books\n",
    "\n",
    "* [Natural Language Processing with Python – Analyzing Text with the Natural Language Toolkit](https://www.nltk.org/book/)\n",
    "* [Natural Language Processing in Action Understanding, analyzing, and generating text with Python](https://www.manning.com/books/natural-language-processing-in-action)\n",
    "* [Introduction to Natural Language Processing (Adaptive Computation and Machine Learning series)](https://www.notion.so/Introduction-to-Natural-Language-Processing-Adaptive-Computation-and-Machine-Learning-series-73b86d447c1c47fc8d6d2499a6afed48)\n",
    "* [Applied Text Analysis with Python Enabling Language-Aware Data Products with Machine Learning](http://shop.oreilly.com/product/0636920052555.do)\n",
    "* [Natural Language Processing with PyTorch: Build Intelligent Language Applications Using Deep Learning](https://www.amazon.com/Natural-Language-Processing-PyTorch-Applications/dp/1491978236)\n",
    "* [Foundations of Statistical Natural Language Processing](https://nlp.stanford.edu/fsnlp/)\n",
    "* [Speech and Language Processing: An Introduction to Natural Language Processing, Computational Linguistics and Speech Recognition](https://web.stanford.edu/~jurafsky/slp3/ed3book.pdf)\n",
    "* [The Oxford Handbook of Computational Linguistics 2nd ed.](https://www.oxfordhandbooks.com/view/10.1093/oxfordhb/9780199573691.001.0001/oxfordhb-9780199573691)\n",
    "* [Taming Text](https://www.manning.com/books/taming-text?utm_source=google&utm_medium=search&utm_campaign=dynamicsearch&gclid=CjwKCAjwiMj2BRBFEiwAYfTbChnxUmEFRJGX0vmoX0bHqa-O_Umx0rMHuZ8FCukbVm-D0i90lD8TvhoC6n0QAvD_BwE)\n",
    "* [Deep Learning in Natural Language Processing](https://www.springer.com/gp/book/9789811052088)\n",
    "* [ Hands-On Machine Learning with Scikit-Learn and TensorFlow: Concepts, Tools, and Techniques to Build Intelligent Systems 1st Edition](https://www.amazon.com/Hands-Machine-Learning-Scikit-Learn-TensorFlow/dp/1491962291)\n",
    "\n"
   ]
  },
  {
   "cell_type": "markdown",
   "metadata": {},
   "source": [
    "### Open Source Dataset Sources\n",
    "\n",
    "* [The Big Bad NLP Database](https://www.notion.so/The-Big-Bad-NLP-Database-4afce20d6cda4a0facba0d1f68d7aaa4)\n",
    "* [datasetlist](https://www.datasetlist.com/?utm_source=datasetlist&utm_medium=email) \n",
    "* [Kaggle](https://www.kaggle.com/datasets)"
   ]
  },
  {
   "cell_type": "markdown",
   "metadata": {},
   "source": [
    "### Open Source Libraries\n",
    "\n",
    "* [NLTK](https://github.com/nltk/nltk)\n",
    "* [SpaCy](https://github.com/explosion/spaCy)\n",
    "* [Gensim](https://github.com/RaRe-Technologies/gensim)\n",
    "* [SparkNLP](https://github.com/JohnSnowLabs/spark-nlp)\n",
    "* [allennlp](https://github.com/allenai/allennlp)\n",
    "* [Rasa](https://github.com/RasaHQ/rasa)\n",
    "* [Polyglot](https://github.com/aboSamoor/polyglot)\n",
    "* [TextBlob](https://github.com/sloria/TextBlob)\n",
    "* [OpenNLP](https://opennlp.apache.org/)\n",
    "* [CoreNLP](https://github.com/stanfordnlp/CoreNLP)"
   ]
  },
  {
   "cell_type": "markdown",
   "metadata": {},
   "source": [
    "### Deep Learning and Machine Learning Frameworks & Libraries\n",
    "\n",
    "* [Pytorch](https://pytorch.org/)\n",
    "* [TensorFlow](https://www.tensorflow.org/)\n"
   ]
  },
  {
   "cell_type": "markdown",
   "metadata": {},
   "source": [
    "### Youtube Educational Videos & Courses \n",
    "\n",
    "* [From Languages to Information, Dan Jurafsky, Stanford University](https://www.youtube.com/channel/UC_48v322owNVtORXuMeRmpA) \n",
    "\n",
    "* [Natural Language Processing, Dan Jurafsky & Chris Manning, Stanford University](https://www.youtube.com/watch?v=3Dt_yh1mf_U&list=PLQiyVNMpDLKnZYBTUOlSI9mi9wAErFtFm)\n",
    "\n",
    "* [Stanford CS224N: NLP with Deep Learning | Winter 2019](https://www.youtube.com/watch?v=8rXD5-xhemo&list=PLoROMvodv4rOhcuXMZkNm7j3fVwBBY42z)\n",
    "\n",
    "* [Intro to NLP with spaCy: Detecting programming languages](https://www.notion.so/Intro-to-NLP-with-spaCy-Detecting-programming-languages-c89f3c1b2e63491c9720cd2f5f7174c6)\n",
    "\n",
    "* [NLTK with Python 3 for Natural Language Processing](https://www.youtube.com/watch?v=FLZvOKSCkxY&list=PLQVvvaa0QuDf2JswnfiGkliBInZnIC4HL)\n"
   ]
  },
  {
   "cell_type": "markdown",
   "metadata": {},
   "source": [
    "### Coursera Courses & Specializations\n",
    "\n",
    "* [Deep Learning Specialization](https://www.coursera.org/specializations/deep-learning)\n",
    "* [Natural Language Processing in TensorFlow](https://www.coursera.org/learn/natural-language-processing-tensorflow)"
   ]
  },
  {
   "cell_type": "markdown",
   "metadata": {},
   "source": [
    "* For Recent Research, Models, Algorithms [arXiv.org](https://arxiv.org/)"
   ]
  },
  {
   "cell_type": "markdown",
   "metadata": {},
   "source": [
    "### Github Repos to Take A Look\n",
    "\n",
    "* [Huggingface](https://github.com/huggingface)\n",
    "* [The Super Duper NLP Repo](https://www.notion.so/The-Super-Duper-NLP-Repo-51d7564373bb4c1885c83dd3432cd2c8)\n",
    "* [NLP Progress](https://github.com/sebastianruder/NLP-progress)\n",
    "* [Awesome NLP, List of Reesources](https://github.com/keon/awesome-nlp)\n"
   ]
  },
  {
   "cell_type": "markdown",
   "metadata": {},
   "source": [
    "### Pre-Trained Language Models\n",
    "\n",
    "* [Google Research, BERT](https://github.com/google-research/bert)\n",
    "* [OpenAI GPT2](https://github.com/openai/gpt-2)\n",
    "* [TransformerXL](https://github.com/kimiyoung/transformer-xl)\n"
   ]
  },
  {
   "cell_type": "markdown",
   "metadata": {},
   "source": [
    "### List of Miscellaneous Resources (Worth checking out!)\n",
    "\n",
    "* [Awesome Pytorch List](https://github.com/bharathgs/Awesome-pytorch-list)"
   ]
  }
 ],
 "metadata": {
  "kernelspec": {
   "display_name": "Python 3",
   "language": "python",
   "name": "python3"
  },
  "language_info": {
   "codemirror_mode": {
    "name": "ipython",
    "version": 3
   },
   "file_extension": ".py",
   "mimetype": "text/x-python",
   "name": "python",
   "nbconvert_exporter": "python",
   "pygments_lexer": "ipython3",
   "version": "3.7.7"
  }
 },
 "nbformat": 4,
 "nbformat_minor": 4
}
